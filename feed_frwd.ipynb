{
 "cells": [
  {
   "cell_type": "markdown",
   "metadata": {},
   "source": [
    "# Feed Forward Neural Network #"
   ]
  },
  {
   "cell_type": "code",
   "execution_count": 1,
   "metadata": {},
   "outputs": [
    {
     "name": "stderr",
     "output_type": "stream",
     "text": [
      "[nltk_data] Downloading package wordnet to\n",
      "[nltk_data]     C:\\Users\\Raunak\\AppData\\Roaming\\nltk_data...\n",
      "[nltk_data]   Package wordnet is already up-to-date!\n",
      "[nltk_data] Downloading package stopwords to\n",
      "[nltk_data]     C:\\Users\\Raunak\\AppData\\Roaming\\nltk_data...\n",
      "[nltk_data]   Package stopwords is already up-to-date!\n"
     ]
    },
    {
     "data": {
      "text/plain": [
       "True"
      ]
     },
     "execution_count": 1,
     "metadata": {},
     "output_type": "execute_result"
    }
   ],
   "source": [
    "import pandas as pd\n",
    "import string\n",
    "import os\n",
    "import numpy as np\n",
    "import urllib\n",
    "import requests\n",
    "from sklearn.model_selection import train_test_split,cross_val_score\n",
    "from sklearn.metrics import roc_curve, auc, classification_report\n",
    "from sklearn.preprocessing import label_binarize\n",
    "from sklearn.naive_bayes import GaussianNB\n",
    "from sklearn.model_selection import cross_val_score\n",
    "import time\n",
    "import glob\n",
    "import seaborn as sns\n",
    "import operator\n",
    "import folium\n",
    "from itertools import cycle, islice\n",
    "from pandas import options\n",
    "import warnings\n",
    "import pickle\n",
    "import re\n",
    "import nltk\n",
    "import torch.nn as nn\n",
    "import torch.nn.functional as F\n",
    "import torch.optim as optim\n",
    "import torch\n",
    "from matplotlib.pyplot import figure\n",
    "from nltk.corpus import stopwords \n",
    "import nltk\n",
    "\n",
    "\n",
    "nltk.download('wordnet')\n",
    "nltk.download('stopwords')"
   ]
  },
  {
   "cell_type": "code",
   "execution_count": 2,
   "metadata": {},
   "outputs": [
    {
     "data": {
      "text/html": [
       "<div>\n",
       "<style scoped>\n",
       "    .dataframe tbody tr th:only-of-type {\n",
       "        vertical-align: middle;\n",
       "    }\n",
       "\n",
       "    .dataframe tbody tr th {\n",
       "        vertical-align: top;\n",
       "    }\n",
       "\n",
       "    .dataframe thead th {\n",
       "        text-align: right;\n",
       "    }\n",
       "</style>\n",
       "<table border=\"1\" class=\"dataframe\">\n",
       "  <thead>\n",
       "    <tr style=\"text-align: right;\">\n",
       "      <th></th>\n",
       "      <th>review</th>\n",
       "      <th>sentiment</th>\n",
       "    </tr>\n",
       "  </thead>\n",
       "  <tbody>\n",
       "    <tr>\n",
       "      <th>0</th>\n",
       "      <td>One of the other reviewers has mentioned that ...</td>\n",
       "      <td>1</td>\n",
       "    </tr>\n",
       "    <tr>\n",
       "      <th>1</th>\n",
       "      <td>A wonderful little production. &lt;br /&gt;&lt;br /&gt;The...</td>\n",
       "      <td>1</td>\n",
       "    </tr>\n",
       "    <tr>\n",
       "      <th>2</th>\n",
       "      <td>I thought this was a wonderful way to spend ti...</td>\n",
       "      <td>1</td>\n",
       "    </tr>\n",
       "    <tr>\n",
       "      <th>3</th>\n",
       "      <td>Basically there's a family where a little boy ...</td>\n",
       "      <td>0</td>\n",
       "    </tr>\n",
       "    <tr>\n",
       "      <th>4</th>\n",
       "      <td>Petter Mattei's \"Love in the Time of Money\" is...</td>\n",
       "      <td>1</td>\n",
       "    </tr>\n",
       "    <tr>\n",
       "      <th>...</th>\n",
       "      <td>...</td>\n",
       "      <td>...</td>\n",
       "    </tr>\n",
       "    <tr>\n",
       "      <th>990230</th>\n",
       "      <td>@LSDtweets put me down as a reference on that</td>\n",
       "      <td>1</td>\n",
       "    </tr>\n",
       "    <tr>\n",
       "      <th>138566</th>\n",
       "      <td>shame about lucy gordon, killing herself, she ...</td>\n",
       "      <td>0</td>\n",
       "    </tr>\n",
       "    <tr>\n",
       "      <th>863540</th>\n",
       "      <td>mmm I took an angelfood cake. cut it, put quin...</td>\n",
       "      <td>1</td>\n",
       "    </tr>\n",
       "    <tr>\n",
       "      <th>969307</th>\n",
       "      <td>has just arived in zagreb</td>\n",
       "      <td>1</td>\n",
       "    </tr>\n",
       "    <tr>\n",
       "      <th>1171060</th>\n",
       "      <td>http://twitpic.com/6byey - on the way home. bo...</td>\n",
       "      <td>1</td>\n",
       "    </tr>\n",
       "  </tbody>\n",
       "</table>\n",
       "<p>145760 rows × 2 columns</p>\n",
       "</div>"
      ],
      "text/plain": [
       "                                                    review  sentiment\n",
       "0        One of the other reviewers has mentioned that ...          1\n",
       "1        A wonderful little production. <br /><br />The...          1\n",
       "2        I thought this was a wonderful way to spend ti...          1\n",
       "3        Basically there's a family where a little boy ...          0\n",
       "4        Petter Mattei's \"Love in the Time of Money\" is...          1\n",
       "...                                                    ...        ...\n",
       "990230      @LSDtweets put me down as a reference on that           1\n",
       "138566   shame about lucy gordon, killing herself, she ...          0\n",
       "863540   mmm I took an angelfood cake. cut it, put quin...          1\n",
       "969307                          has just arived in zagreb           1\n",
       "1171060  http://twitpic.com/6byey - on the way home. bo...          1\n",
       "\n",
       "[145760 rows x 2 columns]"
      ]
     },
     "execution_count": 2,
     "metadata": {},
     "output_type": "execute_result"
    }
   ],
   "source": [
    "# DATA_SET = './datasets/aclimdb.csv'\n",
    "DATA_SET = './FinalDataset.csv'\n",
    "df_ffnn =pd.read_csv(DATA_SET, index_col = 0)\n",
    "df_ffnn"
   ]
  },
  {
   "cell_type": "markdown",
   "metadata": {},
   "source": [
    "## Preprocessing ##"
   ]
  },
  {
   "cell_type": "markdown",
   "metadata": {},
   "source": [
    "## Data Cleaning ##"
   ]
  },
  {
   "cell_type": "code",
   "execution_count": 3,
   "metadata": {},
   "outputs": [
    {
     "data": {
      "text/html": [
       "<div>\n",
       "<style scoped>\n",
       "    .dataframe tbody tr th:only-of-type {\n",
       "        vertical-align: middle;\n",
       "    }\n",
       "\n",
       "    .dataframe tbody tr th {\n",
       "        vertical-align: top;\n",
       "    }\n",
       "\n",
       "    .dataframe thead th {\n",
       "        text-align: right;\n",
       "    }\n",
       "</style>\n",
       "<table border=\"1\" class=\"dataframe\">\n",
       "  <thead>\n",
       "    <tr style=\"text-align: right;\">\n",
       "      <th></th>\n",
       "      <th>review</th>\n",
       "      <th>sentiment</th>\n",
       "    </tr>\n",
       "  </thead>\n",
       "  <tbody>\n",
       "    <tr>\n",
       "      <th>0</th>\n",
       "      <td>one of the other reviewers has mentioned that ...</td>\n",
       "      <td>1</td>\n",
       "    </tr>\n",
       "    <tr>\n",
       "      <th>1</th>\n",
       "      <td>a wonderful little production br br the filmin...</td>\n",
       "      <td>1</td>\n",
       "    </tr>\n",
       "    <tr>\n",
       "      <th>2</th>\n",
       "      <td>i thought this was a wonderful way to spend ti...</td>\n",
       "      <td>1</td>\n",
       "    </tr>\n",
       "    <tr>\n",
       "      <th>3</th>\n",
       "      <td>basically theres a family where a little boy j...</td>\n",
       "      <td>0</td>\n",
       "    </tr>\n",
       "    <tr>\n",
       "      <th>4</th>\n",
       "      <td>petter matteis love in the time of money is a ...</td>\n",
       "      <td>1</td>\n",
       "    </tr>\n",
       "    <tr>\n",
       "      <th>...</th>\n",
       "      <td>...</td>\n",
       "      <td>...</td>\n",
       "    </tr>\n",
       "    <tr>\n",
       "      <th>990230</th>\n",
       "      <td>lsdtweets put me down as a reference on that</td>\n",
       "      <td>1</td>\n",
       "    </tr>\n",
       "    <tr>\n",
       "      <th>138566</th>\n",
       "      <td>shame about lucy gordon killing herself she wa...</td>\n",
       "      <td>0</td>\n",
       "    </tr>\n",
       "    <tr>\n",
       "      <th>863540</th>\n",
       "      <td>mmm i took an angelfood cake cut it put quince...</td>\n",
       "      <td>1</td>\n",
       "    </tr>\n",
       "    <tr>\n",
       "      <th>969307</th>\n",
       "      <td>has just arived in zagreb</td>\n",
       "      <td>1</td>\n",
       "    </tr>\n",
       "    <tr>\n",
       "      <th>1171060</th>\n",
       "      <td>httptwitpiccom6byey  on the way home bout to c...</td>\n",
       "      <td>1</td>\n",
       "    </tr>\n",
       "  </tbody>\n",
       "</table>\n",
       "<p>145760 rows × 2 columns</p>\n",
       "</div>"
      ],
      "text/plain": [
       "                                                    review  sentiment\n",
       "0        one of the other reviewers has mentioned that ...          1\n",
       "1        a wonderful little production br br the filmin...          1\n",
       "2        i thought this was a wonderful way to spend ti...          1\n",
       "3        basically theres a family where a little boy j...          0\n",
       "4        petter matteis love in the time of money is a ...          1\n",
       "...                                                    ...        ...\n",
       "990230       lsdtweets put me down as a reference on that           1\n",
       "138566   shame about lucy gordon killing herself she wa...          0\n",
       "863540   mmm i took an angelfood cake cut it put quince...          1\n",
       "969307                          has just arived in zagreb           1\n",
       "1171060  httptwitpiccom6byey  on the way home bout to c...          1\n",
       "\n",
       "[145760 rows x 2 columns]"
      ]
     },
     "execution_count": 3,
     "metadata": {},
     "output_type": "execute_result"
    }
   ],
   "source": [
    "# Lowercasing and removing punctuations and symbols\n",
    "df_ffnn['review'] = df_ffnn['review'].str.lower()\n",
    "\n",
    "#Define function for removing special characters\n",
    "def remove_special_characters(text, remove_digits=True):\n",
    "    text=re.sub(r'[^a-zA-z0-9\\s]','',text)\n",
    "    return text\n",
    "\n",
    "df_ffnn['review'] = df_ffnn['review'].apply(lambda x:''.join([i for i in x if i not in string.punctuation]))\n",
    "\n",
    "#Apply function on review column\n",
    "df_ffnn['review'] = df_ffnn['review'].apply(remove_special_characters)\n",
    "\n",
    "\n",
    "df_ffnn"
   ]
  },
  {
   "cell_type": "code",
   "execution_count": 4,
   "metadata": {},
   "outputs": [
    {
     "data": {
      "text/plain": [
       "0    73698\n",
       "1    72062\n",
       "Name: sentiment, dtype: int64"
      ]
     },
     "execution_count": 4,
     "metadata": {},
     "output_type": "execute_result"
    }
   ],
   "source": [
    "df_ffnn['sentiment'].value_counts()"
   ]
  },
  {
   "cell_type": "code",
   "execution_count": 5,
   "metadata": {},
   "outputs": [
    {
     "name": "stdout",
     "output_type": "stream",
     "text": [
      "[0 1]\n"
     ]
    },
    {
     "data": {
      "text/html": [
       "<div>\n",
       "<style scoped>\n",
       "    .dataframe tbody tr th:only-of-type {\n",
       "        vertical-align: middle;\n",
       "    }\n",
       "\n",
       "    .dataframe tbody tr th {\n",
       "        vertical-align: top;\n",
       "    }\n",
       "\n",
       "    .dataframe thead th {\n",
       "        text-align: right;\n",
       "    }\n",
       "</style>\n",
       "<table border=\"1\" class=\"dataframe\">\n",
       "  <thead>\n",
       "    <tr style=\"text-align: right;\">\n",
       "      <th></th>\n",
       "      <th>review</th>\n",
       "      <th>sentiment</th>\n",
       "    </tr>\n",
       "  </thead>\n",
       "  <tbody>\n",
       "    <tr>\n",
       "      <th>0</th>\n",
       "      <td>one of the other reviewers has mentioned that ...</td>\n",
       "      <td>1</td>\n",
       "    </tr>\n",
       "    <tr>\n",
       "      <th>1</th>\n",
       "      <td>a wonderful little production br br the filmin...</td>\n",
       "      <td>1</td>\n",
       "    </tr>\n",
       "    <tr>\n",
       "      <th>2</th>\n",
       "      <td>i thought this was a wonderful way to spend ti...</td>\n",
       "      <td>1</td>\n",
       "    </tr>\n",
       "    <tr>\n",
       "      <th>3</th>\n",
       "      <td>basically theres a family where a little boy j...</td>\n",
       "      <td>0</td>\n",
       "    </tr>\n",
       "    <tr>\n",
       "      <th>4</th>\n",
       "      <td>petter matteis love in the time of money is a ...</td>\n",
       "      <td>1</td>\n",
       "    </tr>\n",
       "    <tr>\n",
       "      <th>...</th>\n",
       "      <td>...</td>\n",
       "      <td>...</td>\n",
       "    </tr>\n",
       "    <tr>\n",
       "      <th>990230</th>\n",
       "      <td>lsdtweets put me down as a reference on that</td>\n",
       "      <td>1</td>\n",
       "    </tr>\n",
       "    <tr>\n",
       "      <th>138566</th>\n",
       "      <td>shame about lucy gordon killing herself she wa...</td>\n",
       "      <td>0</td>\n",
       "    </tr>\n",
       "    <tr>\n",
       "      <th>863540</th>\n",
       "      <td>mmm i took an angelfood cake cut it put quince...</td>\n",
       "      <td>1</td>\n",
       "    </tr>\n",
       "    <tr>\n",
       "      <th>969307</th>\n",
       "      <td>has just arived in zagreb</td>\n",
       "      <td>1</td>\n",
       "    </tr>\n",
       "    <tr>\n",
       "      <th>1171060</th>\n",
       "      <td>httptwitpiccom6byey  on the way home bout to c...</td>\n",
       "      <td>1</td>\n",
       "    </tr>\n",
       "  </tbody>\n",
       "</table>\n",
       "<p>145760 rows × 2 columns</p>\n",
       "</div>"
      ],
      "text/plain": [
       "                                                    review  sentiment\n",
       "0        one of the other reviewers has mentioned that ...          1\n",
       "1        a wonderful little production br br the filmin...          1\n",
       "2        i thought this was a wonderful way to spend ti...          1\n",
       "3        basically theres a family where a little boy j...          0\n",
       "4        petter matteis love in the time of money is a ...          1\n",
       "...                                                    ...        ...\n",
       "990230       lsdtweets put me down as a reference on that           1\n",
       "138566   shame about lucy gordon killing herself she wa...          0\n",
       "863540   mmm i took an angelfood cake cut it put quince...          1\n",
       "969307                          has just arived in zagreb           1\n",
       "1171060  httptwitpiccom6byey  on the way home bout to c...          1\n",
       "\n",
       "[145760 rows x 2 columns]"
      ]
     },
     "execution_count": 5,
     "metadata": {},
     "output_type": "execute_result"
    }
   ],
   "source": [
    "from sklearn import preprocessing\n",
    "le = preprocessing.LabelEncoder()\n",
    "sentiment_label = le.fit_transform(df_ffnn[\"sentiment\"])\n",
    "print(le.classes_)\n",
    "df_ffnn =df_ffnn.drop(\"sentiment\",axis=\"columns\")\n",
    "df_ffnn[\"sentiment\"] = sentiment_label\n",
    "df_ffnn"
   ]
  },
  {
   "cell_type": "code",
   "execution_count": 6,
   "metadata": {},
   "outputs": [
    {
     "data": {
      "text/plain": [
       "0    73698\n",
       "1    72062\n",
       "Name: sentiment, dtype: int64"
      ]
     },
     "execution_count": 6,
     "metadata": {},
     "output_type": "execute_result"
    }
   ],
   "source": [
    "df_ffnn['sentiment'].value_counts()"
   ]
  },
  {
   "cell_type": "code",
   "execution_count": 7,
   "metadata": {},
   "outputs": [
    {
     "data": {
      "text/html": [
       "<div>\n",
       "<style scoped>\n",
       "    .dataframe tbody tr th:only-of-type {\n",
       "        vertical-align: middle;\n",
       "    }\n",
       "\n",
       "    .dataframe tbody tr th {\n",
       "        vertical-align: top;\n",
       "    }\n",
       "\n",
       "    .dataframe thead th {\n",
       "        text-align: right;\n",
       "    }\n",
       "</style>\n",
       "<table border=\"1\" class=\"dataframe\">\n",
       "  <thead>\n",
       "    <tr style=\"text-align: right;\">\n",
       "      <th></th>\n",
       "      <th>review</th>\n",
       "      <th>sentiment</th>\n",
       "    </tr>\n",
       "  </thead>\n",
       "  <tbody>\n",
       "    <tr>\n",
       "      <th>0</th>\n",
       "      <td>one of the other reviewers has mentioned that ...</td>\n",
       "      <td>1</td>\n",
       "    </tr>\n",
       "    <tr>\n",
       "      <th>1</th>\n",
       "      <td>a wonderful little production br br the filmin...</td>\n",
       "      <td>1</td>\n",
       "    </tr>\n",
       "    <tr>\n",
       "      <th>2</th>\n",
       "      <td>i thought this was a wonderful way to spend ti...</td>\n",
       "      <td>1</td>\n",
       "    </tr>\n",
       "    <tr>\n",
       "      <th>3</th>\n",
       "      <td>basically theres a family where a little boy j...</td>\n",
       "      <td>0</td>\n",
       "    </tr>\n",
       "    <tr>\n",
       "      <th>4</th>\n",
       "      <td>petter matteis love in the time of money is a ...</td>\n",
       "      <td>1</td>\n",
       "    </tr>\n",
       "    <tr>\n",
       "      <th>...</th>\n",
       "      <td>...</td>\n",
       "      <td>...</td>\n",
       "    </tr>\n",
       "    <tr>\n",
       "      <th>990230</th>\n",
       "      <td>lsdtweets put me down as a reference on that</td>\n",
       "      <td>1</td>\n",
       "    </tr>\n",
       "    <tr>\n",
       "      <th>138566</th>\n",
       "      <td>shame about lucy gordon killing herself she wa...</td>\n",
       "      <td>0</td>\n",
       "    </tr>\n",
       "    <tr>\n",
       "      <th>863540</th>\n",
       "      <td>mmm i took an angelfood cake cut it put quince...</td>\n",
       "      <td>1</td>\n",
       "    </tr>\n",
       "    <tr>\n",
       "      <th>969307</th>\n",
       "      <td>has just arived in zagreb</td>\n",
       "      <td>1</td>\n",
       "    </tr>\n",
       "    <tr>\n",
       "      <th>1171060</th>\n",
       "      <td>on the way home bout to cop some breakfast</td>\n",
       "      <td>1</td>\n",
       "    </tr>\n",
       "  </tbody>\n",
       "</table>\n",
       "<p>145760 rows × 2 columns</p>\n",
       "</div>"
      ],
      "text/plain": [
       "                                                    review  sentiment\n",
       "0        one of the other reviewers has mentioned that ...          1\n",
       "1        a wonderful little production br br the filmin...          1\n",
       "2        i thought this was a wonderful way to spend ti...          1\n",
       "3        basically theres a family where a little boy j...          0\n",
       "4        petter matteis love in the time of money is a ...          1\n",
       "...                                                    ...        ...\n",
       "990230       lsdtweets put me down as a reference on that           1\n",
       "138566   shame about lucy gordon killing herself she wa...          0\n",
       "863540   mmm i took an angelfood cake cut it put quince...          1\n",
       "969307                          has just arived in zagreb           1\n",
       "1171060        on the way home bout to cop some breakfast           1\n",
       "\n",
       "[145760 rows x 2 columns]"
      ]
     },
     "execution_count": 7,
     "metadata": {},
     "output_type": "execute_result"
    }
   ],
   "source": [
    "import re\n",
    "#Remove tags and links \n",
    "tag = re.compile(r'<[^>]+>')\n",
    "\n",
    "df_ffnn['review'] = df_ffnn['review'].apply(lambda x: tag.sub('', x)) #removing html labels\n",
    "\n",
    "df_ffnn['review'] = df_ffnn['review'].replace(r'http\\S+', '', regex=True).replace(r'www.\\S+', '', regex=True).replace(r'http\\S+', '', regex=True).replace(r'\"', '', regex=True)\n",
    "\n",
    "df_ffnn"
   ]
  },
  {
   "cell_type": "code",
   "execution_count": 8,
   "metadata": {},
   "outputs": [
    {
     "name": "stderr",
     "output_type": "stream",
     "text": [
      "[nltk_data] Downloading package omw-1.4 to\n",
      "[nltk_data]     C:\\Users\\Raunak\\AppData\\Roaming\\nltk_data...\n",
      "[nltk_data]   Package omw-1.4 is already up-to-date!\n"
     ]
    },
    {
     "data": {
      "text/html": [
       "<div>\n",
       "<style scoped>\n",
       "    .dataframe tbody tr th:only-of-type {\n",
       "        vertical-align: middle;\n",
       "    }\n",
       "\n",
       "    .dataframe tbody tr th {\n",
       "        vertical-align: top;\n",
       "    }\n",
       "\n",
       "    .dataframe thead th {\n",
       "        text-align: right;\n",
       "    }\n",
       "</style>\n",
       "<table border=\"1\" class=\"dataframe\">\n",
       "  <thead>\n",
       "    <tr style=\"text-align: right;\">\n",
       "      <th></th>\n",
       "      <th>review</th>\n",
       "      <th>sentiment</th>\n",
       "    </tr>\n",
       "  </thead>\n",
       "  <tbody>\n",
       "    <tr>\n",
       "      <th>0</th>\n",
       "      <td>one of the other reviewers have mention that a...</td>\n",
       "      <td>1</td>\n",
       "    </tr>\n",
       "    <tr>\n",
       "      <th>1</th>\n",
       "      <td>a wonderful little production br br the film t...</td>\n",
       "      <td>1</td>\n",
       "    </tr>\n",
       "    <tr>\n",
       "      <th>2</th>\n",
       "      <td>i think this be a wonderful way to spend time ...</td>\n",
       "      <td>1</td>\n",
       "    </tr>\n",
       "    <tr>\n",
       "      <th>3</th>\n",
       "      <td>basically theres a family where a little boy j...</td>\n",
       "      <td>0</td>\n",
       "    </tr>\n",
       "    <tr>\n",
       "      <th>4</th>\n",
       "      <td>petter matteis love in the time of money be a ...</td>\n",
       "      <td>1</td>\n",
       "    </tr>\n",
       "    <tr>\n",
       "      <th>...</th>\n",
       "      <td>...</td>\n",
       "      <td>...</td>\n",
       "    </tr>\n",
       "    <tr>\n",
       "      <th>990230</th>\n",
       "      <td>lsdtweets put me down as a reference on that</td>\n",
       "      <td>1</td>\n",
       "    </tr>\n",
       "    <tr>\n",
       "      <th>138566</th>\n",
       "      <td>shame about lucy gordon kill herself she be in...</td>\n",
       "      <td>0</td>\n",
       "    </tr>\n",
       "    <tr>\n",
       "      <th>863540</th>\n",
       "      <td>mmm i take an angelfood cake cut it put quince...</td>\n",
       "      <td>1</td>\n",
       "    </tr>\n",
       "    <tr>\n",
       "      <th>969307</th>\n",
       "      <td>have just arived in zagreb</td>\n",
       "      <td>1</td>\n",
       "    </tr>\n",
       "    <tr>\n",
       "      <th>1171060</th>\n",
       "      <td>on the way home bout to cop some breakfast</td>\n",
       "      <td>1</td>\n",
       "    </tr>\n",
       "  </tbody>\n",
       "</table>\n",
       "<p>145760 rows × 2 columns</p>\n",
       "</div>"
      ],
      "text/plain": [
       "                                                    review  sentiment\n",
       "0        one of the other reviewers have mention that a...          1\n",
       "1        a wonderful little production br br the film t...          1\n",
       "2        i think this be a wonderful way to spend time ...          1\n",
       "3        basically theres a family where a little boy j...          0\n",
       "4        petter matteis love in the time of money be a ...          1\n",
       "...                                                    ...        ...\n",
       "990230        lsdtweets put me down as a reference on that          1\n",
       "138566   shame about lucy gordon kill herself she be in...          0\n",
       "863540   mmm i take an angelfood cake cut it put quince...          1\n",
       "969307                          have just arived in zagreb          1\n",
       "1171060         on the way home bout to cop some breakfast          1\n",
       "\n",
       "[145760 rows x 2 columns]"
      ]
     },
     "execution_count": 8,
     "metadata": {},
     "output_type": "execute_result"
    }
   ],
   "source": [
    "# Tokenization and Lemmanization\n",
    "\n",
    "nltk.download('omw-1.4')\n",
    "\n",
    "w_tokenizer = nltk.tokenize.WhitespaceTokenizer()\n",
    "lemmatizer = nltk.stem.WordNetLemmatizer()\n",
    "\n",
    "def lemmatize_text(text):\n",
    "    return \" \".join([lemmatizer.lemmatize(w, pos=\"v\") for w in w_tokenizer.tokenize(text)])\n",
    "\n",
    "df_ffnn['review'] = df_ffnn.review.apply(lemmatize_text).copy()\n",
    "\n",
    "df_ffnn"
   ]
  },
  {
   "cell_type": "code",
   "execution_count": 9,
   "metadata": {},
   "outputs": [
    {
     "name": "stdout",
     "output_type": "stream",
     "text": [
      "Shape of x_train:  (37500, 1)\n",
      "Shape of y_train:  (37500, 1)\n",
      "Shape of x_test:   (12500, 1)\n",
      "Shape of y_test:   (12500, 1)\n"
     ]
    }
   ],
   "source": [
    "df_ffnn = df_ffnn.sample(50000)\n",
    "\n",
    "x = pd.DataFrame(df_ffnn, columns = ['review']) \n",
    "y = pd.DataFrame(df_ffnn, columns = ['sentiment']) \n",
    "\n",
    "# Split dataset to train and test set.\n",
    "X_train, X_test, Y_train, Y_test = train_test_split(x, y, test_size=0.25, random_state=42)\n",
    "\n",
    "print(\"Shape of x_train: \", X_train.shape)\n",
    "print(\"Shape of y_train: \", Y_train.shape)\n",
    "print(\"Shape of x_test:  \", X_test.shape)\n",
    "print(\"Shape of y_test:  \", Y_test.shape)\n"
   ]
  },
  {
   "cell_type": "markdown",
   "metadata": {},
   "source": [
    "## Vectorization with TF-IDF ##"
   ]
  },
  {
   "cell_type": "code",
   "execution_count": 10,
   "metadata": {},
   "outputs": [
    {
     "name": "stdout",
     "output_type": "stream",
     "text": [
      "TF-IDF train shape: (37500, 1000)\n",
      "TF-IDF test shape: (12500, 1000)\n"
     ]
    }
   ],
   "source": [
    "from sklearn.feature_extraction.text import TfidfVectorizer\n",
    "\n",
    "train = X_train['review'].tolist()\n",
    "test = X_test['review'].tolist()\n",
    "STOPWORDS = set(stopwords.words('english'))\n",
    "\n",
    "tfidf_vectorizer = TfidfVectorizer(max_features=1000, dtype=np.float32)\n",
    "\n",
    "tfidfX_train = tfidf_vectorizer.fit_transform(train)\n",
    "tfidfX_train = tfidfX_train.toarray()\n",
    "\n",
    "tfidfX_test = tfidf_vectorizer.transform(test)\n",
    "tfidfX_test = tfidfX_test.toarray()\n",
    "\n",
    "print(\"TF-IDF train shape:\", tfidfX_train.shape)\n",
    "print(\"TF-IDF test shape:\", tfidfX_test.shape)"
   ]
  },
  {
   "cell_type": "markdown",
   "metadata": {},
   "source": [
    "## Converting to Tensors ##"
   ]
  },
  {
   "cell_type": "code",
   "execution_count": 11,
   "metadata": {},
   "outputs": [],
   "source": [
    "# Convert X datasets to tensors.\n",
    "tfidfX_train = torch.tensor(tfidfX_train)\n",
    "tfidfX_test = torch.tensor(tfidfX_test)\n",
    "\n",
    "# Convert Y labels to tensors with torch.squeeze.\n",
    "Y_train = torch.squeeze(torch.from_numpy(Y_train.to_numpy()).float())\n",
    "Y_test = torch.squeeze(torch.from_numpy(Y_test.to_numpy()).float())"
   ]
  },
  {
   "cell_type": "markdown",
   "metadata": {},
   "source": [
    "## Building the Model ##"
   ]
  },
  {
   "cell_type": "code",
   "execution_count": 12,
   "metadata": {},
   "outputs": [
    {
     "name": "stdout",
     "output_type": "stream",
     "text": [
      "Device available for running: \n",
      "cpu\n"
     ]
    }
   ],
   "source": [
    "# Use cuda if present\n",
    "device = torch.device(\"cuda\" if torch.cuda.is_available() else \"cpu\")\n",
    "print(\"Device available for running: \")\n",
    "print(device)"
   ]
  },
  {
   "cell_type": "code",
   "execution_count": 13,
   "metadata": {},
   "outputs": [],
   "source": [
    "class FeedforwardNeuralNetModel(nn.Module):\n",
    "    def __init__(self, input_dim, hidden_dim_1, hidden_dim_2, output_dim):\n",
    "        super(FeedforwardNeuralNetModel, self).__init__()\n",
    "        \n",
    "        # Linear function 1\n",
    "        self.layer_1 = nn.Linear(input_dim, hidden_dim_1) \n",
    "        # self.dropout = nn.Dropout(0.3)\n",
    "        # self.batch1 = nn.BatchNorm1d(hidden_dim)\n",
    "        \n",
    "        # Non-linearity 1\n",
    "        self.relu_1 = nn.ReLU()\n",
    "\n",
    "        # Linear function 2\n",
    "        self.layer_2 = nn.Linear(hidden_dim_1, hidden_dim_2)\n",
    "        # Non-linearity 2\n",
    "        self.relu_2 = nn.ReLU()\n",
    "\n",
    "        # Linear function 3\n",
    "        self.layer_3 = nn.Linear(hidden_dim_2, output_dim)  \n",
    "\n",
    "    def forward(self, x):\n",
    "        out = self.layer_1(x)\n",
    "        out = self.relu_1(out)\n",
    "\n",
    "        out = self.layer_2(out)\n",
    "        out = self.relu_2(out)\n",
    "\n",
    "        out = self.layer_3(out)\n",
    "\n",
    "        return torch.sigmoid(out)"
   ]
  },
  {
   "cell_type": "markdown",
   "metadata": {},
   "source": [
    "## Initializing the Model ##"
   ]
  },
  {
   "cell_type": "code",
   "execution_count": 14,
   "metadata": {},
   "outputs": [],
   "source": [
    "# Dimensions of each layer and num of epochs.\n",
    "input_dim = tfidfX_train.shape[1]\n",
    "hidden_dim_1 = 512\n",
    "hidden_dim_2 = 512\n",
    "output_dim = 1\n",
    "num_epochs = 600\n",
    "\n",
    "# Define our first feed forward neural network.\n",
    "first_model = FeedforwardNeuralNetModel(input_dim,hidden_dim_1,hidden_dim_2,output_dim)\n",
    "\n",
    "# Define loss function.\n",
    "criterion = nn.BCELoss()\n",
    "# criterion = nn.CrossEntropyLoss()\n",
    "\n",
    "# Define as optimizer Adam.\n",
    "optimizer = optim.Adam(first_model.parameters(),lr=0.1e-3,weight_decay=1e-3)\n",
    "\n",
    "# Transfer all the computation to GPU (cuda device).\n",
    "first_model.to(device)\n",
    "criterion = criterion.to(device)\n"
   ]
  },
  {
   "cell_type": "markdown",
   "metadata": {},
   "source": [
    "## Training the Model ##"
   ]
  },
  {
   "cell_type": "code",
   "execution_count": 15,
   "metadata": {},
   "outputs": [],
   "source": [
    "# This is a function that calculate the accuracy manually\n",
    "def calculate_accuracy(y_true, y_pred):  \n",
    "    y_pred = torch.round(y_pred)\n",
    "    correct = (y_true == y_pred).float() \n",
    "    acc = correct.sum() / len(correct)\n",
    "    return acc\n",
    "\n",
    "batch_size = 10000\n",
    "\n",
    "# Split train dataset to mini batches\n",
    "X_train_mini_batches = torch.split(tfidfX_train,batch_size)\n",
    "Y_train_mini_batches = torch.split(Y_train,batch_size)\n",
    "\n",
    "train_losses = []\n",
    "train_accuracies = []\n",
    "val_losses = []\n",
    "val_accuracies = []\n",
    "\n",
    "# Start training\n",
    "for epoch in range(num_epochs):\n",
    "    epoch_loss = 0\n",
    "    epoch_accuracy = 0\n",
    "    validation_loss=0\n",
    "    val_accuracy=0\n",
    "    \n",
    "    for X_train_mini_batch,Y_train_mini_batch in zip(X_train_mini_batches,Y_train_mini_batches):\n",
    "        \n",
    "        X_train_mini_batch = X_train_mini_batch.to(device)\n",
    "        Y_train_mini_batch = Y_train_mini_batch.to(device)\n",
    "        \n",
    "        # Forward pass to get output\n",
    "        train_prediction = first_model.forward(X_train_mini_batch.float())\n",
    "        train_prediction = torch.squeeze(train_prediction)\n",
    "\n",
    "        # Calculate Loss\n",
    "        train_loss = criterion(train_prediction,Y_train_mini_batch)\n",
    "\n",
    "        # Clearing up accumulated gradients\n",
    "        optimizer.zero_grad()\n",
    "    \n",
    "        # Getting gradients\n",
    "        train_loss.backward()\n",
    "\n",
    "        # Updating parameters\n",
    "        optimizer.step()\n",
    "\n",
    "        # Add each mini batch's loss\n",
    "        epoch_loss += train_loss.item()\n",
    "\n",
    "        # Add each mini batch's accuracy\n",
    "        epoch_accuracy += calculate_accuracy(Y_train_mini_batch,train_prediction)\n",
    "        \n",
    "    # For some epochs print loss and accucary of train and validation set.\n",
    "    \n",
    "    if epoch % 1 == 0:\n",
    "        \n",
    "\n",
    "        epoch_loss /= len(X_train_mini_batches)\n",
    "        epoch_accuracy /= len(X_train_mini_batches)\n",
    "        train_losses.append(epoch_loss)\n",
    "        train_accuracies.append(epoch_accuracy)\n",
    "        #print(\"Epoch:\",epoch, \"\\n\"\n",
    "         #      \"Train_loss:\",round(epoch_loss,4), \"Train Accuracy:\",round(epoch_accuracy.item(),4))"
   ]
  },
  {
   "cell_type": "code",
   "execution_count": 16,
   "metadata": {},
   "outputs": [
    {
     "name": "stdout",
     "output_type": "stream",
     "text": [
      "Accuracy: 80.4\n"
     ]
    }
   ],
   "source": [
    "# Calculating Accuracy\n",
    "\n",
    "tfidfX_test = tfidfX_test.to(device)\n",
    "Y_test = Y_test.to(device)\n",
    "\n",
    "# Forward pass to get output\n",
    "test_prediction = first_model.forward(tfidfX_test.float())\n",
    "test_prediction = torch.squeeze(test_prediction)\n",
    "\n",
    "#Calculate accuracy on test set\n",
    "test_accuracy = calculate_accuracy(Y_test,test_prediction)\n",
    "\n",
    "print(\"Accuracy:\",round(test_accuracy.item(),4)*100)"
   ]
  },
  {
   "cell_type": "code",
   "execution_count": 17,
   "metadata": {},
   "outputs": [
    {
     "data": {
      "image/png": "[encoded data removed]",
      "text/plain": [
       "<Figure size 576x576 with 1 Axes>"
      ]
     },
     "metadata": {
      "needs_background": "light"
     },
     "output_type": "display_data"
    }
   ],
   "source": [
    "# Plotting loss vs epochs\n",
    "import seaborn as sns\n",
    "import matplotlib.pyplot as plt\n",
    "\n",
    "figure(figsize=(8,8)) \n",
    "plt.plot(train_losses)\n",
    "plt.title('Model Loss')\n",
    "plt.ylabel('Loss')\n",
    "plt.xlabel('Epoch')\n",
    "plt.legend(['train'], loc='upper right')\n",
    "plt.show()"
   ]
  },
  {
   "cell_type": "code",
   "execution_count": 18,
   "metadata": {},
   "outputs": [
    {
     "data": {
      "image/png": "[encoded data removed]",
      "text/plain": [
       "<Figure size 576x576 with 1 Axes>"
      ]
     },
     "metadata": {
      "needs_background": "light"
     },
     "output_type": "display_data"
    }
   ],
   "source": [
    "# Plotting accuracy vs epochs\n",
    "figure(figsize=(8,8)) \n",
    "plt.plot(train_accuracies)\n",
    "plt.title('Model Accuracy')\n",
    "plt.ylabel('Accuracy')\n",
    "plt.xlabel('Epoch')\n",
    "plt.legend(['train'], loc='upper left')\n",
    "plt.show()"
   ]
  },
  {
   "cell_type": "code",
   "execution_count": 19,
   "metadata": {},
   "outputs": [
    {
     "name": "stdout",
     "output_type": "stream",
     "text": [
      "              precision    recall  f1-score   support\n",
      "\n",
      "         0.0       0.81      0.80      0.81      6372\n",
      "         1.0       0.80      0.80      0.80      6128\n",
      "\n",
      "    accuracy                           0.80     12500\n",
      "   macro avg       0.80      0.80      0.80     12500\n",
      "weighted avg       0.80      0.80      0.80     12500\n",
      "\n"
     ]
    }
   ],
   "source": [
    "# Classification report\n",
    "test_prediction = test_prediction.to(device)\n",
    "test_prediction = test_prediction.ge(.5).view(-1).cpu()\n",
    "Y_test = Y_test.cpu()\n",
    "\n",
    "print(classification_report(Y_test,test_prediction))"
   ]
  },
  {
   "cell_type": "code",
   "execution_count": 24,
   "metadata": {},
   "outputs": [
    {
     "name": "stdout",
     "output_type": "stream",
     "text": [
      "              precision    recall  f1-score   support\n",
      "\n",
      "         0.0       0.97      0.95      0.96      3798\n",
      "         1.0       0.95      0.97      0.96      3702\n",
      "\n",
      "    accuracy                           0.96      7500\n",
      "   macro avg       0.96      0.96      0.96      7500\n",
      "weighted avg       0.96      0.96      0.96      7500\n",
      "\n"
     ]
    }
   ],
   "source": [
    "# Classification report\n",
    "train_prediction = train_prediction.to(device)\n",
    "train_prediction = train_prediction.ge(.5).view(-1).cpu()\n",
    "Y_train_mini_batch = Y_train_mini_batch.cpu()\n",
    "\n",
    "print(classification_report(Y_train_mini_batch,train_prediction))"
   ]
  }
 ],
 "metadata": {
  "kernelspec": {
   "display_name": "Python 3.7 (pytorch)",
   "language": "python",
   "name": "pytorch"
  },
  "language_info": {
   "codemirror_mode": {
    "name": "ipython",
    "version": 3
   },
   "file_extension": ".py",
   "mimetype": "text/x-python",
   "name": "python",
   "nbconvert_exporter": "python",
   "pygments_lexer": "ipython3",
   "version": "3.7.13"
  }
 },
 "nbformat": 4,
 "nbformat_minor": 4
}
